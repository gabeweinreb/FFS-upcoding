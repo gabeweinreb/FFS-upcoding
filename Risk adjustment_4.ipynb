{
 "cells": [
  {
   "cell_type": "code",
   "execution_count": null,
   "metadata": {},
   "outputs": [],
   "source": [
    "import os\n",
    "import pandas as pd\n",
    "import statsmodels.formula.api as sm"
   ]
  },
  {
   "cell_type": "code",
   "execution_count": null,
   "metadata": {},
   "outputs": [],
   "source": [
    "import matplotlib.pyplot as plt"
   ]
  },
  {
   "cell_type": "markdown",
   "metadata": {},
   "source": [
    "## Data preparation"
   ]
  },
  {
   "cell_type": "code",
   "execution_count": null,
   "metadata": {},
   "outputs": [],
   "source": [
    "# Import data\n",
    "\n",
    "Geo_PUF_sheets = pd.read_excel('Geo_variation_PUF.xlsx', sheet_name=None, header=1, usecols=\"A:B,D:E,G:P, U\") # takes 90 seconds\n",
    "sheets = ['State_county ' + str(i) for i in range (2007, 2019) ]\n",
    "\n",
    "column_names=['State', 'County', 'Total_pop', 'FFS_pop', 'MA_penetration', 'Average_age',\n",
    "       'Percent_Female', 'Percent Male', 'Percent_white',\n",
    "       'Percent_Black', 'Percent_Hispanic',\n",
    "       'Percent Other/Unknown', 'Percent_duals', 'Risk_score', 'Actual_cost']\n",
    "data_sets = [Geo_PUF_sheets['State_county ' + str(i)] for i in range (2007, 2019)]\n",
    "\n",
    "for i in range(0,12):\n",
    "    data_sets[i].columns=column_names\n",
    "    data_sets[i].insert(0, 'Year', i+2007)\n",
    "    \n",
    "df_geo_var = pd.concat(data_sets, sort=False)"
   ]
  },
  {
   "cell_type": "code",
   "execution_count": null,
   "metadata": {},
   "outputs": [],
   "source": [
    "# Save checkpoint\n",
    "df_geo_var.to_csv('Geo_var.csv', sep=';', index=False)"
   ]
  },
  {
   "cell_type": "code",
   "execution_count": null,
   "metadata": {},
   "outputs": [],
   "source": [
    "# Load checkpoint\n",
    "df_geo_var=pd.read_csv('Geo_var.csv', sep=';', dtype='string')"
   ]
  },
  {
   "cell_type": "code",
   "execution_count": null,
   "metadata": {},
   "outputs": [],
   "source": [
    "#Calculate expected costs\n",
    "\n",
    "num_cols=['Total_pop', 'FFS_pop', 'Average_age','Risk_score', 'Actual_cost']\n",
    "df_geo_var[num_cols] = df_geo_var[num_cols].apply(pd.to_numeric, errors='coerce')\n",
    "\n",
    "\n",
    "USPCC=df_geo_var[df_geo_var.County=='NATIONAL TOTAL'][['Year', 'Actual_cost']]\n",
    "USPCC.columns=['Year', 'USPCC']\n",
    "df_geo_var=df_geo_var.merge(USPCC, how='inner', on='Year')\n",
    "df_geo_var['Expected_cost']=df_geo_var.USPCC*df_geo_var.Risk_score\n",
    "\n",
    "df_geo_var=df_geo_var[~df_geo_var.County.str.contains('TOTAL')]\n",
    "df_geo_var['OE_cost']= df_geo_var.Actual_cost/df_geo_var.Expected_cost"
   ]
  },
  {
   "cell_type": "code",
   "execution_count": null,
   "metadata": {},
   "outputs": [],
   "source": [
    "# Clean data\n",
    "def unpercent(series):\n",
    "    return pd.to_numeric(series.str.slice(start=0, stop=-2), errors='coerce')/100\n",
    "    \n",
    "\n",
    "percent_cols=[ 'MA_penetration', 'Percent_Female', 'Percent Male', 'Percent_white',\n",
    "       'Percent_Black', 'Percent_Hispanic',\n",
    "       'Percent Other/Unknown', 'Percent_duals']\n",
    "df_geo_var[percent_cols] = df_geo_var[percent_cols].apply(unpercent)\n",
    "\n",
    "\n",
    "df_geo_var['FIPS']=df_geo_var.State.str.cat(df_geo_var.County, sep='_')"
   ]
  },
  {
   "cell_type": "code",
   "execution_count": null,
   "metadata": {},
   "outputs": [],
   "source": [
    "# Take out counties with incomplete data\n",
    "\n",
    "df=df_geo_var.dropna()\n",
    "kill_list=df.groupby(['FIPS']).count()[df.groupby(['FIPS']).count().Year<12].reset_index().FIPS\n",
    "df=df[~df.FIPS.isin(kill_list)]"
   ]
  },
  {
   "cell_type": "code",
   "execution_count": null,
   "metadata": {},
   "outputs": [],
   "source": [
    "# Create time lagged variablee\n",
    "\n",
    "df=df.sort_values(['FIPS', 'Year'], ascending=True).reset_index(drop=True)\n",
    "df['MA_penetration_lagged_1']=df.groupby(['FIPS'])['MA_penetration'].shift(1)\n",
    "df=df[df.Year !='2007']"
   ]
  },
  {
   "cell_type": "markdown",
   "metadata": {},
   "source": [
    "## Analysis"
   ]
  },
  {
   "cell_type": "code",
   "execution_count": null,
   "metadata": {},
   "outputs": [],
   "source": [
    "# Regression\n",
    "\n",
    "model=sm.ols(formula= 'OE_cost ~ MA_penetration_lagged_1 + Average_age + Percent_Female + Percent_white + Percent_Black  + Percent_Hispanic + Percent_duals + C(Year) + C(FIPS)', data=df)\n",
    "results = model.fit()\n",
    "print(results.summary())\n",
    "print(results.summary().as_latex())"
   ]
  },
  {
   "cell_type": "code",
   "execution_count": null,
   "metadata": {
    "scrolled": false
   },
   "outputs": [],
   "source": [
    "# Construct chart 1\n",
    "\n",
    "quantiles=10 #select desired granularity of chart\n",
    "\n",
    "df_graph=df\n",
    "\n",
    "plt.plot(range(1,quantiles +1) , df_graph.groupby(pd.qcut(df_graph.MA_penetration_lagged_1, quantiles))['Actual_cost', 'Expected_cost' ].mean())\n",
    "plt.xlabel('Prior year MA-penetration decile')\n",
    "plt.ylabel('Average annual FFS cost, $')\n",
    "plt.title('Chart 1: Actual and expected FFS costs by MA-penetration')\n",
    "plt.legend([\"Actual cost\", \"Expected cost\"])\n",
    "plt.savefig('Chart 1.pdf')"
   ]
  },
  {
   "cell_type": "code",
   "execution_count": null,
   "metadata": {},
   "outputs": [],
   "source": []
  }
 ],
 "metadata": {
  "kernelspec": {
   "display_name": "Python 2",
   "language": "python",
   "name": "python2"
  },
  "language_info": {
   "codemirror_mode": {
    "name": "ipython",
    "version": 2
   },
   "file_extension": ".py",
   "mimetype": "text/x-python",
   "name": "python",
   "nbconvert_exporter": "python",
   "pygments_lexer": "ipython2",
   "version": "2.7.15"
  }
 },
 "nbformat": 4,
 "nbformat_minor": 2
}
